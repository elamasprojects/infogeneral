{
  "cells": [
    {
      "cell_type": "markdown",
      "metadata": {
        "id": "fP9qaCCxAeDF"
      },
      "source": [
        "# Funciones incluidas en Python\n",
        "## Funciones incluidas (built-in)\n",
        "\n",
        "En programación, una función es un conjunto de instrucciones que realizan una tarea específica. En Python, al igual que en matemáticas, existen funciones predefinidas que nos permiten realizar diversas acciones en el lenguaje (librerías de funciones). Estas funciones pueden ser utilizadas directamente, o los programadores también pueden crear sus propias funciones(cosa que veremos en algunas clases)\n",
        "\n",
        " Para ejecutar una función, simplemente usamos su nombre seguido de paréntesis, que pueden contener los datos necesarios para que la función realice su tarea, si es que los requiere.\n",
        "\n",
        " Por ejemplo, la función abs() se utiliza para obtener el valor absoluto de un número, y dentro de los paréntesis se coloca el número del cual se desea obtener el valor absoluto, por ejemplo abs(-3).\n",
        "\n",
        " Es importante recordar que todas las funciones en Python retornan un valor, el cual puede ser utilizado de diversas formas, como asignarlo a una variable, utilizarlo en operaciones matemáticas o como argumento para otra función.\n"
      ]
    },
    {
      "cell_type": "markdown",
      "metadata": {
        "id": "BD0tuernAeDM"
      },
      "source": [
        "## Salida de datos con el print()\n",
        "\n",
        "\n",
        "La función print() en Python es utilizada para mostrar información en la pantalla.  Esta función puede recibir cualquier tipo de dato como argumento para imprimir, como números, cadenas de caracteres, entre otros y realiza automáticamente la conversión a str, para luego realizar la impresión.\n",
        "\n",
        "Además, es posible separar varios argumentos utilizando una coma, lo que permite mostrar múltiples valores en una sola línea.\n",
        "\n",
        "Es importante recordar que la función print() no retorna ningún valor, simplemente muestra información en la pantalla."
      ]
    },
    {
      "cell_type": "code",
      "execution_count": null,
      "metadata": {
        "id": "ASMJMHEwAeDN",
        "colab": {
          "base_uri": "https://localhost:8080/"
        },
        "outputId": "a18e5cb5-ff92-4529-e678-13ca1c6aa897"
      },
      "outputs": [
        {
          "output_type": "stream",
          "name": "stdout",
          "text": [
            "Hola, me llamo 11\n"
          ]
        }
      ],
      "source": [
        "print('Hola, me llamo', 11 )        ## Imprimiendo un str y un número"
      ]
    },
    {
      "cell_type": "code",
      "source": [
        "x=10\n",
        "print(\"Ahora sí funciona\", \"o separado por coma también!!\\nAbajo\", 2*x, \"--> Es el resultado de hacer\\t2*x\")"
      ],
      "metadata": {
        "colab": {
          "base_uri": "https://localhost:8080/"
        },
        "id": "-2RF51VT84Tx",
        "outputId": "8163e23e-fba6-4e40-89ab-5ca89a6cba1d"
      },
      "execution_count": null,
      "outputs": [
        {
          "output_type": "stream",
          "name": "stdout",
          "text": [
            "Ahora sí funciona o separado por coma también!!\n",
            "Abajo 20 --> Es el resultado de hacer\t2*x\n"
          ]
        }
      ]
    },
    {
      "cell_type": "code",
      "execution_count": null,
      "metadata": {
        "id": "Y7-PUrUMAeDO",
        "colab": {
          "base_uri": "https://localhost:8080/"
        },
        "outputId": "ff5753f4-8359-414c-ef7a-f755d597fa34"
      },
      "outputs": [
        {
          "output_type": "stream",
          "name": "stdout",
          "text": [
            "1\n",
            "\n",
            "2\n"
          ]
        }
      ],
      "source": [
        "print(1)\n",
        "print()               ## Llamandolo sin argumentos imprime una línea en blanco\n",
        "print(2)"
      ]
    },
    {
      "cell_type": "code",
      "source": [
        "print(\"Hola\", \"Ninfa\", end=\"\\n\\n\",sep=\"  \")"
      ],
      "metadata": {
        "colab": {
          "base_uri": "https://localhost:8080/"
        },
        "id": "lgASQS9yCclh",
        "outputId": "bf0d9cdb-de86-40d2-ed2d-b8f754936409"
      },
      "execution_count": null,
      "outputs": [
        {
          "output_type": "stream",
          "name": "stdout",
          "text": [
            "Hola  Ninfa\n",
            "\n"
          ]
        }
      ]
    },
    {
      "cell_type": "code",
      "execution_count": null,
      "metadata": {
        "id": "OOH5iLDEAeDO",
        "colab": {
          "base_uri": "https://localhost:8080/"
        },
        "outputId": "9272e151-b093-4caf-c2bd-95d90baf2f94"
      },
      "outputs": [
        {
          "output_type": "stream",
          "name": "stdout",
          "text": [
            "1 2 3 4 5 6\n",
            "7 8 9 10\n"
          ]
        }
      ],
      "source": [
        "print(1,2,3,4,5,6)            ## Múltiples argumentos se separan con un\n",
        "                              ## espacio por default\n",
        "print(7,8,9,10)               ## Al final de cada print, se agrega un\n",
        "                              ## salto de línea por default"
      ]
    },
    {
      "cell_type": "markdown",
      "metadata": {
        "id": "1Ej8WzemAeDP"
      },
      "source": [
        "La función print() en Python puede recibir dos argumentos especiales, que se conocen como argumentos nombrados. Estos argumentos tienen nombres porque necesitan ser diferenciados del resto de los argumento que print debe procesar.\n",
        "\n",
        "Para acceder a estos argumentos nombrados, en lugar de poner el valor del argumento, ponemos el nombre, seguido del signo = y el valor. Por ejemplo, `sep=' '`.\n",
        "\n",
        "Los dos argumentos nombrados más importantes del print son:\n",
        "* `sep`: Controla que str se imprime para separar argumentos. Por default, espacio (`sep=' '`)\n",
        "* `end`: Control que str se imprime después del último argumento. Por default, salto de línea (`end='\\n'`)\n",
        "\n",
        "Esto permite personalizar la salida de la función print() según nuestras necesidades, como separar argumentos con un guión, cambiar el carácter de salto de línea o incluso imprimir un mensaje personalizado al final de la salida"
      ]
    },
    {
      "cell_type": "code",
      "execution_count": null,
      "metadata": {
        "id": "kbZ3EPq_AeDP"
      },
      "outputs": [],
      "source": [
        "print(1,2,3,4,5)        ## Sin redefinir los argumento sep & end\n",
        "print(6,7,8,9,0)"
      ]
    },
    {
      "cell_type": "code",
      "execution_count": null,
      "metadata": {
        "id": "RIWDkNRGAeDQ",
        "colab": {
          "base_uri": "https://localhost:8080/"
        },
        "outputId": "f40bd726-7d5b-46e7-9936-97aef71c55fa"
      },
      "outputs": [
        {
          "output_type": "stream",
          "name": "stdout",
          "text": [
            "1 2 3 4 5 6 7 8 9 0\n"
          ]
        }
      ],
      "source": [
        "print(1,2,3,4,5,end=' ')      ## Redefino el end del primer if por un espacio.\n",
        "                              ## Saca el salto de línea\n",
        "print(6,7,8,9,0)"
      ]
    },
    {
      "cell_type": "code",
      "execution_count": null,
      "metadata": {
        "id": "KkBtCoTqAeDQ",
        "colab": {
          "base_uri": "https://localhost:8080/"
        },
        "outputId": "75a869e4-4ced-4bc4-ff64-fa5d8cdcbee3"
      },
      "outputs": [
        {
          "output_type": "stream",
          "name": "stdout",
          "text": [
            "1*2*3*4*5\n",
            "6 7 8 9 0\n"
          ]
        }
      ],
      "source": [
        "print(1,2,3,4,5,sep='*')        ## Reemplazo los separadores de espacio\n",
        "                                ## a un * en el primer if\n",
        "print(6,7,8,9,0)"
      ]
    },
    {
      "cell_type": "code",
      "execution_count": null,
      "metadata": {
        "id": "tHK68EvtAeDQ",
        "colab": {
          "base_uri": "https://localhost:8080/"
        },
        "outputId": "0364e4c4-6109-42aa-c2d0-1682d564285b"
      },
      "outputs": [
        {
          "output_type": "stream",
          "name": "stdout",
          "text": [
            "123456 7 8 9 0\n"
          ]
        }
      ],
      "source": [
        "print(1,2,3,4,5,end='',sep='')        ## Reemplazo sep y end por un str vacío\n",
        "print(6,7,8,9,0)"
      ]
    },
    {
      "cell_type": "markdown",
      "source": [
        "## Salida de datos usando f-strings\n",
        "\n",
        "Las f-strings son una herramienta para formatear cadenas en python. Permiten insertar expresiones dentro de las cadenas literales, evalúando el resultado y colocándolo dentro de la cadena para su visualización.\n",
        "\n",
        "Para usar fstrings, lo único que debes hacer es agregar `f `antes de la cadena a mostrar y colocar los nombres de las variables o expresiones a visualizar entre `{}`.\n",
        "\n",
        "\n",
        "`f'Asi se hace una fstring {variable1} en una {variable2} en Python'`\n",
        "\n",
        "\n",
        "Veamos Ejemplos:"
      ],
      "metadata": {
        "id": "GUlMoj3JS5gS"
      }
    },
    {
      "cell_type": "code",
      "source": [
        "#Ejemplo 1:\n",
        "\n",
        "variable1='correctamente'\n",
        "variable2='programa'\n",
        "\n",
        "print(f'Asi se hace una fstring {variable1} en una {variable2} en Python')"
      ],
      "metadata": {
        "colab": {
          "base_uri": "https://localhost:8080/"
        },
        "id": "51P9kUqgalyJ",
        "outputId": "55a2d0f0-8163-4f0f-b2f7-e18e7248d474"
      },
      "execution_count": null,
      "outputs": [
        {
          "output_type": "stream",
          "name": "stdout",
          "text": [
            "Asi se hace una fstring correctamente en una programa en Python\n"
          ]
        }
      ]
    },
    {
      "cell_type": "markdown",
      "source": [
        "Ejemplo evaluando una expresión:\n",
        "\n",
        "Mostar el resultado de la suma de dos números"
      ],
      "metadata": {
        "id": "S2jWV5MnbVVa"
      }
    },
    {
      "cell_type": "code",
      "source": [
        "print(f'La suma de estos dos numeros es {5+15} ')"
      ],
      "metadata": {
        "colab": {
          "base_uri": "https://localhost:8080/"
        },
        "id": "qPgBdo6Od82U",
        "outputId": "db74e0f1-f091-400c-d9ed-d385740fddee"
      },
      "execution_count": null,
      "outputs": [
        {
          "output_type": "stream",
          "name": "stdout",
          "text": [
            "La suma de estos dos numeros es 20 \n"
          ]
        }
      ]
    },
    {
      "cell_type": "code",
      "source": [
        "dato=5\n",
        "dato1=15\n",
        "print(f'El numero {dato} y el numero {dato1} suman {dato1+dato} ')"
      ],
      "metadata": {
        "colab": {
          "base_uri": "https://localhost:8080/"
        },
        "id": "gs4FssCEUTXt",
        "outputId": "6543a185-9c56-491f-e14d-07aca1ff13f8"
      },
      "execution_count": null,
      "outputs": [
        {
          "output_type": "stream",
          "name": "stdout",
          "text": [
            "El numero 5 y el numero 15 suman 20 \n"
          ]
        }
      ]
    },
    {
      "cell_type": "markdown",
      "source": [
        "#### Algunas opciones de formateo que ofrece f-strings\n",
        "\n",
        "**Alineación:**\n",
        "\n",
        "texto=frase a visualizar\n",
        "*   A la izquierda `<`  {texto:<}\n",
        "*   A la derecha   `>`  {texto:>}\n",
        "*   Al centro      `^`  {texto:^}\n",
        "\n",
        "**Visualización de Reales:**\n",
        "\n",
        "*   {variable:.xf}\n",
        "variable= valor que se limitará la cantidad de decimales\n",
        "x =indica la cantidad de decimales a visualizar\n",
        "\n",
        "**Relleno Personalizado:**\n",
        "\n",
        "*   {texto: caracter<tamano}\n",
        "texto= frase a visualizar\n",
        "caracter=caracter para rellenar espacios\n",
        "tamano= tamaño especificado como maximo a ocupar la frase\n",
        "\n",
        "\n",
        "Algunos ejemplos:"
      ],
      "metadata": {
        "id": "mZc-DBa_ePdI"
      }
    },
    {
      "cell_type": "code",
      "source": [
        "texto = \"Informatica General 71.20 \"\n",
        "print(f\"|{texto:<30}|\")  # Alineación a la izquierda\n",
        "print(f\"|{texto:>30}|\")  # Alineación a la derecha\n",
        "print(f\"|{texto:^30}|\")  # Centrando el texto"
      ],
      "metadata": {
        "colab": {
          "base_uri": "https://localhost:8080/"
        },
        "id": "GISg2ErdkSID",
        "outputId": "457a68a7-de28-4cdb-bcbc-be0f8d6b1a40"
      },
      "execution_count": null,
      "outputs": [
        {
          "output_type": "stream",
          "name": "stdout",
          "text": [
            "|Informatica General 71.20     |\n",
            "|    Informatica General 71.20 |\n",
            "|  Informatica General 71.20   |\n"
          ]
        }
      ]
    },
    {
      "cell_type": "code",
      "source": [
        "pi=3.141592\n",
        "\n",
        "print(f'pi {pi:.3f}')"
      ],
      "metadata": {
        "colab": {
          "base_uri": "https://localhost:8080/"
        },
        "id": "u8-29f3okipq",
        "outputId": "51801142-0795-47b2-d99d-4ec0cfe6e159"
      },
      "execution_count": null,
      "outputs": [
        {
          "output_type": "stream",
          "name": "stdout",
          "text": [
            "pi 3.142\n"
          ]
        }
      ]
    },
    {
      "cell_type": "code",
      "source": [
        "texto = \"Informatica General 71.20 \"\n",
        "print(f\"|{texto:*<30}|\")  # Alineación a la izquierda\n",
        "print(f\"|{texto:+>30}|\")  # Alineación a la derecha\n",
        "print(f\"|{texto:-^30}|\")  # Centrando el texto"
      ],
      "metadata": {
        "colab": {
          "base_uri": "https://localhost:8080/"
        },
        "id": "8BDnBLySlCd0",
        "outputId": "04380ede-f6fc-4d6a-bf93-96d0990d00df"
      },
      "execution_count": null,
      "outputs": [
        {
          "output_type": "stream",
          "name": "stdout",
          "text": [
            "|Informatica General 71.20 ****|\n",
            "|++++Informatica General 71.20 |\n",
            "|--Informatica General 71.20 --|\n"
          ]
        }
      ]
    },
    {
      "cell_type": "markdown",
      "metadata": {
        "id": "Uwe7bAJrAeDR"
      },
      "source": [
        "## Ingreso de datos con el input()\n",
        "\n",
        "La función input() en Python permite solicitar texto a los usuarios y devolverlo en formato `str`. Esta función puede imprimir un mensaje antes de solicitar el ingreso. La sintaxis de la función es la siguiente:\n",
        "\n",
        "`input( prompt )`\n",
        "\n",
        "Donde `prompt` es el texto que se va a imprimir antes de solicitar el ingreso.\n",
        "\n",
        "Es importante recordar que la función input() siempre retorna un valor en formato str, incluso si se ingresa un número. Por lo tanto, si deseas utilizar el valor ingresado en operaciones matemáticas, debes convertirlo a un tipo de dato adecuado.\n",
        "\n",
        "`NOTA:` Dependiendo de en donde se ejecute el código, va a ser el lugar en donde se va a solicitar el ingreso. Prueben de ejecutar este código en un notebook y en Visual Code sobre un archivo `.py`, para poder ver las diferencias."
      ]
    },
    {
      "cell_type": "code",
      "execution_count": null,
      "metadata": {
        "id": "25_pvDOGAeDR",
        "colab": {
          "base_uri": "https://localhost:8080/"
        },
        "outputId": "874bdc29-c144-40e4-8506-bae594088da7"
      },
      "outputs": [
        {
          "output_type": "stream",
          "name": "stdout",
          "text": [
            "Ingrese algo y presione ENTER: gg\n",
            "gg\n"
          ]
        }
      ],
      "source": [
        "s = input('Ingrese algo y presione ENTER: ')\n",
        "print(s)"
      ]
    },
    {
      "cell_type": "markdown",
      "metadata": {
        "id": "Xh9hWJSmAeDR"
      },
      "source": [
        "Si lo ejecuto en un archivo .py, vamos a ver en la terminal de ejecución algo similar a esto:\n",
        "\n",
        "```\n",
        "fede@terra 71.20-InformaticaGeneral % /usr/local/anaconda3/bin/python3 /Users/fede/tmp/sandbox.py\n",
        "Ingrese algo y presione ENTER: asd\n",
        "asd\n",
        "fede@terra 71.20-InformaticaGeneral %\n",
        "```"
      ]
    },
    {
      "cell_type": "markdown",
      "metadata": {
        "id": "YmxFqqL9AeDS"
      },
      "source": [
        "Dentro del `notebook`, el lugar para ingresar puede estar **en la parte superior de la pantalla** o al lado de la celda, pero en un `programa .py` el ingreso será en la terminal."
      ]
    },
    {
      "cell_type": "code",
      "execution_count": null,
      "metadata": {
        "id": "MZiaxiL1AeDS"
      },
      "outputs": [],
      "source": [
        "quiero_ser_int = input('Ingrese un número: ')  ## input siempre devuelve un str\n",
        "type(quiero_ser_int)"
      ]
    },
    {
      "cell_type": "code",
      "execution_count": null,
      "metadata": {
        "id": "39BXsK6dAeDS"
      },
      "outputs": [],
      "source": [
        "soy_int = int(input('Ingrese un número: '))   # Si quiero un nro, tengo que\n",
        "                                              # convertir el valor ingresado\n",
        "                                              # a int con la función int()\n",
        "type(soy_int)"
      ]
    },
    {
      "cell_type": "markdown",
      "metadata": {
        "id": "tkFVLIGyAeDS"
      },
      "source": [
        "Más adelante vamos a ver como validar que el ingreso del usuario sea correcto. Si el `int()` trata de transforma un `str` que no es un número, devolverá un error."
      ]
    },
    {
      "cell_type": "code",
      "execution_count": null,
      "metadata": {
        "id": "Q-sofjEcAeDT"
      },
      "outputs": [],
      "source": [
        "soy_int = int(input('Ingrese un número: '))         ## Ingresar abc\n",
        "type(soy_int)"
      ]
    },
    {
      "cell_type": "markdown",
      "metadata": {
        "id": "yndQfuLOAeDT"
      },
      "source": [
        "## Funciones básicas matemáticas (round/abs)\n",
        "\n",
        "Python incluye varias funciones matemáticas dentro de su librería incluida. Algunos ejemplos:\n",
        "* `round( num [, dig ] )`: Devuelve un número `num` redondeado a `dig` cantidad de dígitos. `dig` es opcional. Si se omite, entonces devuelve un numero entero formado por la parte entera de num.\n",
        "* `abs(x)`: Devuelve el módulo matemático de x."
      ]
    },
    {
      "cell_type": "code",
      "execution_count": null,
      "metadata": {
        "id": "m4Gf63SRAeDT",
        "colab": {
          "base_uri": "https://localhost:8080/"
        },
        "outputId": "13521643-5ba7-488f-f7b5-fcb9c25f1849"
      },
      "outputs": [
        {
          "output_type": "execute_result",
          "data": {
            "text/plain": [
              "3"
            ]
          },
          "metadata": {},
          "execution_count": 26
        }
      ],
      "source": [
        "round(10/3)         ## Sin especificar la cantidad de dígitos,\n",
        "                    ## redondea al entero más cercano"
      ]
    },
    {
      "cell_type": "code",
      "execution_count": null,
      "metadata": {
        "id": "bQW35aU6AeDT",
        "colab": {
          "base_uri": "https://localhost:8080/"
        },
        "outputId": "0f6599be-3722-43f8-bb8d-6f48ba9b4244"
      },
      "outputs": [
        {
          "output_type": "execute_result",
          "data": {
            "text/plain": [
              "3.3333"
            ]
          },
          "metadata": {},
          "execution_count": 27
        }
      ],
      "source": [
        "round(10/3,4)       ## Especificando la cantidad de dígitos a 4"
      ]
    },
    {
      "cell_type": "code",
      "execution_count": null,
      "metadata": {
        "id": "im_K_PfLAeDT"
      },
      "outputs": [],
      "source": [
        "round(10/3,4)*3     ## En todo redondeo hay siempre una pérdida de precisión"
      ]
    },
    {
      "cell_type": "code",
      "execution_count": null,
      "metadata": {
        "id": "FxsbeUi-AeDU",
        "colab": {
          "base_uri": "https://localhost:8080/"
        },
        "outputId": "2ccd92b8-f673-495e-b3e7-f0df8c355446"
      },
      "outputs": [
        {
          "output_type": "execute_result",
          "data": {
            "text/plain": [
              "10.0"
            ]
          },
          "metadata": {},
          "execution_count": 10
        }
      ],
      "source": [
        "round(10/3,20)*3    ## Esto les parece normal? No era periódico 10/3 ?"
      ]
    },
    {
      "cell_type": "code",
      "execution_count": null,
      "metadata": {
        "id": "ghZtXJg-AeDU"
      },
      "outputs": [],
      "source": [
        "type(round(1.0))          ## Recibe un float, devuelve un int"
      ]
    },
    {
      "cell_type": "code",
      "execution_count": null,
      "metadata": {
        "id": "Nks_v5wTAeDU"
      },
      "outputs": [],
      "source": [
        "type(round(1.0,0))    ## El tipo de dato que retorna depende si defino dig o no"
      ]
    },
    {
      "cell_type": "code",
      "execution_count": null,
      "metadata": {
        "id": "riUJ3MY-AeDU"
      },
      "outputs": [],
      "source": [
        "type(round(1,6))        ## Si recibe un int, siempre devuelve un int"
      ]
    },
    {
      "cell_type": "markdown",
      "metadata": {
        "id": "C-h0RtroAeDU"
      },
      "source": [
        "Veamos el abs ahora."
      ]
    },
    {
      "cell_type": "code",
      "execution_count": null,
      "metadata": {
        "id": "AF7rFAlYAeDU"
      },
      "outputs": [],
      "source": [
        "abs(-1)                ## Modulo de -1"
      ]
    },
    {
      "cell_type": "code",
      "execution_count": null,
      "metadata": {
        "id": "IiK_QYXMAeDV"
      },
      "outputs": [],
      "source": [
        "abs(1)                  ## Módulo de 1"
      ]
    },
    {
      "cell_type": "code",
      "execution_count": null,
      "metadata": {
        "id": "xEBO02DzAeDV",
        "colab": {
          "base_uri": "https://localhost:8080/"
        },
        "outputId": "d6c136f3-d7f2-4063-af5f-54916019d852"
      },
      "outputs": [
        {
          "output_type": "execute_result",
          "data": {
            "text/plain": [
              "0"
            ]
          },
          "metadata": {},
          "execution_count": 11
        }
      ],
      "source": [
        "abs(0)                  ## Modulo de 0"
      ]
    },
    {
      "cell_type": "code",
      "execution_count": null,
      "metadata": {
        "id": "ZkWSRsN6AeDV"
      },
      "outputs": [],
      "source": [
        "abs(round(-4.5))        ## Recuerden que siempre podemos combinar funciones"
      ]
    },
    {
      "cell_type": "markdown",
      "metadata": {
        "id": "UBlzGKKdAeDV"
      },
      "source": [
        "## Funciones de cadena (ord, chr, len)\n",
        "\n",
        "Para poder trabajar con los caracteres que forma parte de una cadena (`str`), se puede usar las funciones:\n",
        "* `ord( c )`: Devuelve el valor numérico (`int`)), según la tabla ASCII, del caracter `c`.\n",
        "* `chr( num )`: Devuelve el caracter (`str`), según la tabla ASCII, ubicado en la posición `num`.\n",
        "* `len( s )`: Mide la longitud de una cadena `str`."
      ]
    },
    {
      "cell_type": "code",
      "source": [
        "posicion = 48\n",
        "caracter = \"A\"\n",
        "\n",
        "print(chr(posicion))\n",
        "print(ord(caracter))"
      ],
      "metadata": {
        "colab": {
          "base_uri": "https://localhost:8080/"
        },
        "id": "rvYSnXy_FIh-",
        "outputId": "cb813352-ea21-4a07-f085-4c160833a544"
      },
      "execution_count": null,
      "outputs": [
        {
          "output_type": "stream",
          "name": "stdout",
          "text": [
            "0\n",
            "65\n"
          ]
        }
      ]
    },
    {
      "cell_type": "code",
      "execution_count": null,
      "metadata": {
        "id": "lZKYq_7HAeDV",
        "colab": {
          "base_uri": "https://localhost:8080/"
        },
        "outputId": "6473a362-3d93-433e-dd11-4d62c63386d2"
      },
      "outputs": [
        {
          "output_type": "execute_result",
          "data": {
            "text/plain": [
              "32"
            ]
          },
          "metadata": {},
          "execution_count": 12
        }
      ],
      "source": [
        "ord(' ')                    ## Espacio es el 32"
      ]
    },
    {
      "cell_type": "code",
      "execution_count": null,
      "metadata": {
        "id": "Riqqzf95AeDW",
        "colab": {
          "base_uri": "https://localhost:8080/",
          "height": 36
        },
        "outputId": "9b4cc28f-30d8-452c-b2a5-768293dbdba4"
      },
      "outputs": [
        {
          "output_type": "execute_result",
          "data": {
            "text/plain": [
              "'a b'"
            ],
            "application/vnd.google.colaboratory.intrinsic+json": {
              "type": "string"
            }
          },
          "metadata": {},
          "execution_count": 13
        }
      ],
      "source": [
        "'a'+chr(32)+'b'             ## El 32 es el espacio, que se ve entre la a y la b"
      ]
    },
    {
      "cell_type": "code",
      "execution_count": null,
      "metadata": {
        "id": "mvwGkHGYAeDW",
        "colab": {
          "base_uri": "https://localhost:8080/",
          "height": 36
        },
        "outputId": "a6dc9ab9-93b8-4b87-f4ef-d8d127eae9ac"
      },
      "outputs": [
        {
          "output_type": "execute_result",
          "data": {
            "text/plain": [
              "'A'"
            ],
            "application/vnd.google.colaboratory.intrinsic+json": {
              "type": "string"
            }
          },
          "metadata": {},
          "execution_count": 14
        }
      ],
      "source": [
        "chr(ord('A'))               ## Como ord es la función inversa de chr,\n",
        "                            ## si la combino tengo el valor original"
      ]
    },
    {
      "cell_type": "code",
      "execution_count": null,
      "metadata": {
        "id": "Os1HMNg8AeDW",
        "colab": {
          "base_uri": "https://localhost:8080/"
        },
        "outputId": "f775bead-dbed-4f73-c91e-a54fb15fff76"
      },
      "outputs": [
        {
          "output_type": "execute_result",
          "data": {
            "text/plain": [
              "65"
            ]
          },
          "metadata": {},
          "execution_count": 15
        }
      ],
      "source": [
        "ord(chr(65))                ## Lo mismo al revés"
      ]
    },
    {
      "cell_type": "code",
      "execution_count": null,
      "metadata": {
        "id": "55YIaZ8LAeDW"
      },
      "outputs": [],
      "source": [
        "chr( ord('A') + 1 )         ## Puedo saber cuál es el siguiente carater en\n",
        "                            ## la tabla ASCII sumándo 1 al resultado del ord"
      ]
    },
    {
      "cell_type": "code",
      "execution_count": null,
      "metadata": {
        "id": "h5NvWlYIAeDW"
      },
      "outputs": [],
      "source": [
        "chr( ord('A') - 1 )         ## o el anterior"
      ]
    },
    {
      "cell_type": "markdown",
      "metadata": {
        "id": "gTOfARbgAeDW"
      },
      "source": [
        "Ejemplos del uso de len()"
      ]
    },
    {
      "cell_type": "code",
      "execution_count": null,
      "metadata": {
        "id": "A18WYHJZAeDW",
        "colab": {
          "base_uri": "https://localhost:8080/"
        },
        "outputId": "afa0da7e-cd55-466d-dda4-0d4c872ad145"
      },
      "outputs": [
        {
          "output_type": "execute_result",
          "data": {
            "text/plain": [
              "5"
            ]
          },
          "metadata": {},
          "execution_count": 16
        }
      ],
      "source": [
        "len('12345')            ## Usando len"
      ]
    },
    {
      "cell_type": "code",
      "execution_count": null,
      "metadata": {
        "id": "24qedSKEAeDX"
      },
      "outputs": [],
      "source": [
        "print( '12345'+'67890' )\n",
        "len('12345')+len('67890') == len( '12345'+'67890' ) # Al concatenar\n",
        "                                                    # cadenas, sus longitudes\n",
        "                                                    # se suman"
      ]
    },
    {
      "cell_type": "code",
      "execution_count": null,
      "metadata": {
        "id": "GLp9k6RlAeDX"
      },
      "outputs": [],
      "source": [
        "print('a'*5)                        ## Recordemos el operador * para str\n",
        "len('a')*5 == len('a'*5)            ## Las longitudes también son consistentes"
      ]
    },
    {
      "cell_type": "code",
      "execution_count": null,
      "metadata": {
        "id": "6b0iwUGUAeDX"
      },
      "outputs": [],
      "source": [
        "len('')                         ## len() también funciona con cadenas vacías"
      ]
    },
    {
      "cell_type": "markdown",
      "metadata": {
        "id": "pJ83pHEdAeDX"
      },
      "source": [
        "`NOTA:`\n",
        "\n",
        "Cuando hablamos del uso de corchetes para extraer una parte de la cadena (subcadena) usábamos números negativos. Veamos el ejemplo:\n",
        "\n",
        "`s[-1, -6 , -1]`\n",
        "\n",
        "python, al ver un número negativo en la posición de start o stop, calcula el len(s) de s, y se lo suma, de modo que lo de arriba es equivalente a:\n",
        "\n",
        "`s[-1+ len(s), -6 + len(s) , -1] `\n",
        "\n",
        "Veamoslo en un ejemplo"
      ]
    },
    {
      "cell_type": "code",
      "execution_count": null,
      "metadata": {
        "id": "EKReFy4BAeDX",
        "colab": {
          "base_uri": "https://localhost:8080/"
        },
        "outputId": "ff935ccb-a6ea-463d-b685-727401e48576"
      },
      "outputs": [
        {
          "output_type": "stream",
          "name": "stdout",
          "text": [
            "98776\n"
          ]
        }
      ],
      "source": [
        "s = '01234567789'\n",
        "print(s[-1:-6:-1])"
      ]
    },
    {
      "cell_type": "code",
      "execution_count": null,
      "metadata": {
        "id": "yJG8KoRvAeDX"
      },
      "outputs": [],
      "source": [
        "print( 's =', s )\n",
        "print( 'len(s) =', len(s) )     ## El 'len(s) =' es ua cadena str y\n",
        "                                #  después pongo el valor de len(s)\n",
        "print( '-1 + len(s) =', -1 + len(s) )\n",
        "print( '-6 + len(s) =', -6 + len(s) )\n",
        "print( 's[-1+ len(s): -6 + len(s) : -1]= ', s[-1+ len(s): -6 + len(s) : -1] )\n",
        "print( 's[10: 5 : -1] =', s[10:5 : -1] )"
      ]
    },
    {
      "cell_type": "markdown",
      "metadata": {
        "id": "cv2RnyGsAeDY"
      },
      "source": [
        "## Importación de librerías no incluidas\n",
        "\n",
        "Hasta ahora, hemos utilizado funciones que ya vienen predefinidas en Python y no es necesario indicarle al programa que las queremos usar. Sin embargo, Python cuenta con cientos de miles de funciones, por lo que se han agrupado en librerías o módulos según su relación con algún criterio.\n",
        "\n",
        "Los módulos que no vienen predefinidos deben cargarse explícitamente, ya sea en su totalidad o en forma parcial, dependiendo de las funciones o variables que se necesiten\n",
        "\n",
        "Formas de cargar funciones y módulos:\n",
        "* `import module_name`: donde `module_name` es el nombre del módulo que quiero cargar. Carga todas las funciones.\n",
        "* `from module_name import name1 [, name2 , ...]`: donde `module_name` es el nombre del módulo de donde quiero cargar funciones `name1`, y opcionalmente otras más.\n",
        "\n",
        "Dependiendo de cómo se carguen, se hace referencia a las funciones de diferentes maneras:\n",
        "\n",
        "* Si se cargan con `import modulo`, se hace referencia a ellas como `modulo.func1()`, donde modulo es el nombre del módulo y func1 es el nombre de la función.\n",
        "* Si se cargan con `from modulo import func1`, se hace referencia a ellas directamente como `func1()`, evitando la necesidad de usar el nombre del módulo.\n",
        "\n",
        "Esto permite organizar y acceder a las funciones de manera clara, dependiendo de las necesidades del programa y las preferencias del programador.\n",
        "\n",
        "Veamos algunos ejemplos explorando las funciones trigonométricas\n"
      ]
    },
    {
      "cell_type": "markdown",
      "metadata": {
        "id": "Lj5HGmFXAeDY"
      },
      "source": [
        "## Funciones trigonométrica (math module)\n",
        "\n",
        "Todas las funciones trigonométricas están incluidas en el módulo `math`. Las más comunes son:\n",
        "* sin(x)\n",
        "* cos(x)\n",
        "* asin(x)\n",
        "* acos(x)\n",
        "* tan(x)\n",
        "* atan(x)\n",
        "* degrees(rad): conviete un ángulo en radianes a grados (360)\n",
        "* radians(deg): Convierte un ángulo en grados a radianes (2*pi)\n",
        "\n",
        "Todas estas funciones trabajan con ángulos definidos en radianes. Se puede encontrar la lista completa de funciones de este módulo en el siguiente [link](https://docs.python.org/3/library/math.html)"
      ]
    },
    {
      "cell_type": "code",
      "execution_count": null,
      "metadata": {
        "id": "W4ej1xdlAeDY"
      },
      "outputs": [],
      "source": [
        "import math         ## Cargando toda la librería\n",
        "\n",
        "my_pi = math.pi     ## Accedo a una variable dentro del módulo\n",
        "math.sin(my_pi)     ## Llamo una función dentro del módulo"
      ]
    },
    {
      "cell_type": "code",
      "source": [
        "import math  # Acá llamamos a toda la librería math\n",
        "\n",
        "num = float(input(\"Ingrese un número para realizar operaciones: \"))\n",
        "print(\"El seno de\", num, \"es: \", end=\" \")\n",
        "print(math.sin(num))  # debemos escribir modulo.funcion  --> math.sin(num)"
      ],
      "metadata": {
        "colab": {
          "base_uri": "https://localhost:8080/"
        },
        "id": "IlEtDd3pIr7z",
        "outputId": "3bd38713-51a4-4571-9873-e4bcb089ec1f"
      },
      "execution_count": null,
      "outputs": [
        {
          "output_type": "stream",
          "name": "stdout",
          "text": [
            "Ingrese un número para realizar operaciones: 2.35\n",
            "El seno de 2.35 es:  0.7114733527908443\n"
          ]
        }
      ]
    },
    {
      "cell_type": "code",
      "source": [
        "from math import sin, pow, sqrt # Ahora llamamos solo a la función sin\n",
        "\n",
        "num = float(input(\"Ingrese un número para realizar operaciones: \"))\n",
        "print(\"El seno de\", num, \"es: \", end=\" \")\n",
        "print(sin(num)) # Solo ponemos sin(num)\n",
        "print(\"La raiz del números es:\", sqrt(num))\n",
        "################################\n",
        "base=5\n",
        "exp=int(input(\"Ingrese el exponente: \"))\n",
        "print(\"La raiz del número\", base, \"elevado a\", exp, \"es:\", pow(base,exp))"
      ],
      "metadata": {
        "colab": {
          "base_uri": "https://localhost:8080/"
        },
        "id": "A8WFj-xhI_6g",
        "outputId": "d0b87978-16d7-44a5-8a59-b81c366ce1e1"
      },
      "execution_count": null,
      "outputs": [
        {
          "output_type": "stream",
          "name": "stdout",
          "text": [
            "Ingrese un número para realizar operaciones: 3\n",
            "El seno de 3.0 es:  0.1411200080598672\n",
            "La raiz del números es: 1.7320508075688772\n",
            "Ingrese el exponente: 4\n",
            "La raiz del número 5 elevado a 4 es: 625.0\n"
          ]
        }
      ]
    },
    {
      "cell_type": "code",
      "execution_count": null,
      "metadata": {
        "id": "a35QmqDVAeDY"
      },
      "outputs": [],
      "source": [
        "from math import acos, pi     # Importo sólo la función acos del módulo math\n",
        "\n",
        "a = pi/2                      # Se puede referenciar la variable omitiendo el\n",
        "                              # nombre del módulo\n",
        "b = acos(0)                   # Se puede llamarla por el nombre\n",
        "                              # de la función directamente\n",
        "a == b"
      ]
    },
    {
      "cell_type": "code",
      "execution_count": null,
      "metadata": {
        "id": "S8hkVdSJAeDY"
      },
      "outputs": [],
      "source": [
        "from math import asin, pi, sin, degrees\n",
        "\n",
        "degrees( asin( sin( pi/2 ) ) )      ## Combinando funciones"
      ]
    },
    {
      "cell_type": "markdown",
      "metadata": {
        "id": "icMQPFZAAeDY"
      },
      "source": [
        "## Funciones de números aleatorios"
      ]
    },
    {
      "cell_type": "markdown",
      "metadata": {
        "id": "4dNmMrs-AeDZ"
      },
      "source": [
        "\n",
        "Python incluye funciones para generar números aleatorios (al azar), que se encuentran en el módulo `random`.\n",
        "\n",
        "Para utilizar estas funciones, es necesario importar el módulo random primero. Luego, se pueden utilizar las funciones y generar números aleatorios según las necesidades del programa.\n",
        "\n",
        "Las funciones que vamos a usar en esta materia se mencionan a continuación:\n",
        "\n",
        "* `randint( a , b )`: Genera un número aleatorio entre los valores a y b, incluidos ambos.\n",
        "* `random()`: Genera un float entre 0 y 1, incluidos ambos\n",
        "\n",
        "Para mayor detalle de todas las funciones de esta librería se pueden consultar en el [link](https://docs.python.org/3/library/random.html).\n",
        "\n",
        "Veamos algunos ejemplos."
      ]
    },
    {
      "cell_type": "code",
      "execution_count": null,
      "metadata": {
        "id": "s0mvRlXHAeDZ",
        "colab": {
          "base_uri": "https://localhost:8080/"
        },
        "outputId": "79280e72-fe4e-4b40-acd3-fcdf27bf7f3a"
      },
      "outputs": [
        {
          "output_type": "execute_result",
          "data": {
            "text/plain": [
              "0.24151747778166843"
            ]
          },
          "metadata": {},
          "execution_count": 59
        }
      ],
      "source": [
        "import random           ## Ejemplo importando toda la librería\n",
        "\n",
        "random()                ## Ejemplo del error generado\n",
        "                        ## al usar la librería erróneamente"
      ]
    },
    {
      "cell_type": "code",
      "execution_count": null,
      "metadata": {
        "id": "45AK-YUsAeDZ"
      },
      "outputs": [],
      "source": [
        "## El notebook de jupyter trata todos las celdas como un mismo programa\n",
        "## Así que si ya se importó la librería random en la celda de arriba,\n",
        "## no es necesario importarla nuevamente\n",
        "\n",
        "random.random()         ## genera un float aleatorio entre 0 y 1"
      ]
    },
    {
      "cell_type": "code",
      "execution_count": null,
      "metadata": {
        "id": "HcNrQZtCAeDZ",
        "colab": {
          "base_uri": "https://localhost:8080/"
        },
        "outputId": "bbd1f58f-0297-46a6-be23-3dd566f53516"
      },
      "outputs": [
        {
          "output_type": "execute_result",
          "data": {
            "text/plain": [
              "3"
            ]
          },
          "metadata": {},
          "execution_count": 69
        }
      ],
      "source": [
        "random.randint(-5,10)   ## genera un entero aleatorio entre los límites incluidos"
      ]
    },
    {
      "cell_type": "code",
      "execution_count": null,
      "metadata": {
        "id": "5yJ3VduVAeDZ",
        "colab": {
          "base_uri": "https://localhost:8080/"
        },
        "outputId": "0b4f4051-c877-4143-bf28-530bab25bfff"
      },
      "outputs": [
        {
          "output_type": "execute_result",
          "data": {
            "text/plain": [
              "23"
            ]
          },
          "metadata": {},
          "execution_count": 63
        }
      ],
      "source": [
        "## Haciendo randint() desde random()\n",
        "a = 0\n",
        "b = 25\n",
        "round( a + random.random() * ( b - a ) )       ## randint puede ser simulado"
      ]
    },
    {
      "cell_type": "markdown",
      "metadata": {
        "id": "E4_2wy8RswiS"
      },
      "source": [
        "----"
      ]
    },
    {
      "cell_type": "markdown",
      "metadata": {
        "id": "6lSJfU1DswiS"
      },
      "source": [
        "## Errores Comunes y Cómo Python hace la Gestion de estos Errores\n",
        "\n",
        "En la ejecución de un programa puede suceder situaciones no esperadas o no controladas que van a generar errores y van a parar el programa. Veamos algunos ejemplos:"
      ]
    },
    {
      "cell_type": "code",
      "execution_count": null,
      "metadata": {
        "id": "86T7G-66swiS"
      },
      "outputs": [],
      "source": [
        "variable_no_definida     ## Ejemplo de error al usar una variable no definida"
      ]
    },
    {
      "cell_type": "markdown",
      "metadata": {
        "id": "07xkZcQJswiT"
      },
      "source": [
        "**NameError**: Cuando estamos tratando de usar una variable que todavía no fue definida. La solución es asignarle un valor a variable antes de llegar a la línea que da el error."
      ]
    },
    {
      "cell_type": "code",
      "execution_count": null,
      "metadata": {
        "id": "r7Q_C3WBswiT"
      },
      "outputs": [],
      "source": [
        "a=0\n",
        "1/a"
      ]
    },
    {
      "cell_type": "markdown",
      "metadata": {
        "id": "WPkjwupLswiT"
      },
      "source": [
        "**ZeroDivisionError**: Cuando dividimos por cero. Debemos controlar el valor de la expresión divisora, para asegurarnos que no de cero antes de intentar realizar la división."
      ]
    },
    {
      "cell_type": "code",
      "execution_count": null,
      "metadata": {
        "id": "JTz8I_ucswiT"
      },
      "outputs": [],
      "source": [
        "a = '123'\n",
        "a[10]"
      ]
    },
    {
      "cell_type": "markdown",
      "metadata": {
        "id": "j3abZP_PswiU"
      },
      "source": [
        "**IndexError**: Cuando tratamos de acceder un caracter en una cadena que no existe. Debemos controlar el valor del índice antes de usarlos para extraer un caracter de un string."
      ]
    },
    {
      "cell_type": "code",
      "execution_count": null,
      "metadata": {
        "id": "AhUL0UVEswiU",
        "colab": {
          "base_uri": "https://localhost:8080/",
          "height": 106
        },
        "outputId": "1672c2f5-77a0-4899-e4c8-1a5bd6a6b769"
      },
      "outputs": [
        {
          "output_type": "error",
          "ename": "SyntaxError",
          "evalue": "invalid syntax (<ipython-input-5-d998709663ea>, line 1)",
          "traceback": [
            "\u001b[0;36m  File \u001b[0;32m\"<ipython-input-5-d998709663ea>\"\u001b[0;36m, line \u001b[0;32m1\u001b[0m\n\u001b[0;31m    1 1\u001b[0m\n\u001b[0m      ^\u001b[0m\n\u001b[0;31mSyntaxError\u001b[0m\u001b[0;31m:\u001b[0m invalid syntax\n"
          ]
        }
      ],
      "source": [
        "1 1"
      ]
    },
    {
      "cell_type": "markdown",
      "metadata": {
        "id": "IvoFrChPswiU"
      },
      "source": [
        "**SyntaxError**: Cometieron un error al aescribir el programa y el intérprete no puede terminar de enterder lo que escribieron. Deben prestar atención a la ayuda que les da el editor Visual Code. Se marcan en rojo los errores de sintaxis."
      ]
    },
    {
      "cell_type": "code",
      "execution_count": null,
      "metadata": {
        "id": "6NGChe8EswiU"
      },
      "outputs": [],
      "source": [
        "int('a')"
      ]
    },
    {
      "cell_type": "markdown",
      "metadata": {
        "id": "GqT3AzA2swiU"
      },
      "source": [
        "**ValueError**: Puede tener muchas causa y normalmente significa que el valor que se ingresó no es válido. En este caso, se trata de transfor la letra `a` en un entero."
      ]
    }
  ],
  "metadata": {
    "colab": {
      "provenance": []
    },
    "kernelspec": {
      "display_name": "Python 3.9.12 64-bit ('anaconda3')",
      "language": "python",
      "name": "python3"
    },
    "language_info": {
      "codemirror_mode": {
        "name": "ipython",
        "version": 3
      },
      "file_extension": ".py",
      "mimetype": "text/x-python",
      "name": "python",
      "nbconvert_exporter": "python",
      "pygments_lexer": "ipython3",
      "version": "3.10.11"
    },
    "orig_nbformat": 4,
    "vscode": {
      "interpreter": {
        "hash": "a43979cf844f0644155be05c27128b151dab9b61220264de26753e9659114dc9"
      }
    }
  },
  "nbformat": 4,
  "nbformat_minor": 0
}