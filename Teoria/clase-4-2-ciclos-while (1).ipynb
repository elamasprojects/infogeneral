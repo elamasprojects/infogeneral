{
 "cells": [
  {
   "cell_type": "markdown",
   "metadata": {},
   "source": [
    "# Ciclos while\n",
    "\n",
    "Python tiene dos instrucciones para crear ciclos, Una de ellas es el `while`. "
   ]
  },
  {
   "cell_type": "markdown",
   "metadata": {},
   "source": [
    "## Conceptos\n",
    "\n",
    "*While* en inglés significa **mientras**, y lo vamos a leer dentro del código como *mientras se esté dando esta condición, vamos a repetir este bloque de código*. La sintaxis simplificada es la siguiente:\n",
    "```\n",
    "while <CONDICION>:\n",
    "    <BLOQUE_DE_CODIGO>\n",
    "```\n",
    "\n",
    "Donde:\n",
    "* `CONDICION:` Es la condición que se debe cumplir para que se ejecute el bloque de código ( True o False). Al llegar el intérprete al `while` siempre evalúa ësta condición, y decide si *entra* al `while` o no. Una vez que *entró* al ciclo y ejecuta todas las instrucción del bloque de código, regresa al `while` y vuelve a evaluar la condición y decide si comienza de nuevo o sale del `while`.\n",
    "* `BLOQUE_DE_CODIGO:` Instrucción/nes que se ejecutarán por cada vuelta (iteracion), si la condición es verdadera. Siempre se evalúa primero la  `CONDICIÓN` antes de comenzar la ejecución del bloque.\n",
    "\n",
    "En este ejemplo: \n",
    "\n",
    "```python\n",
    "a = 1\n",
    "while a < 5:\n",
    "    print('a =', a)\n",
    "    a += 1\n",
    "```\n",
    "Veamos algunas cosas del ejemplo:\n",
    "* ```a < 5``` es la condición. Termina en `:`, al igual que las condiciones del `if`.\n",
    "* el `print` y `a += 1` forman el bloque de código que quiero ejecutar. Prestar atención a la identación del bloque de código, con respecto a la línea del `while a < 5:`.\n",
    "* Cuando voy a evaluar la condición, donde uso la variable a, **la variable ya debe estar definida**, de modo que hago `a = 1` **antes** de entrar al `while`.\n",
    "* El último valor que toma `a` es el que hace `False` la condición\n",
    "* Si quiero entrar al ciclo por lo menos una vez, me tengo que asegurar que la condición sea verdadera en la primera evaluación, o sea: \n",
    "\n",
    "```python\n",
    "a = 10\n",
    "while a < 5:\n",
    "    print('a =', a)\n",
    "    a += 1\n",
    "```\n",
    "\n",
    "Nunca hubiera entrado al `while`. Pruebenlo ustedes mismos."
   ]
  },
  {
   "cell_type": "code",
   "execution_count": 9,
   "metadata": {},
   "outputs": [
    {
     "name": "stdout",
     "output_type": "stream",
     "text": [
      "En el while a = 1\n",
      "En el while a = 2\n",
      "En el while a = 3\n",
      "En el while a = 4\n",
      "Último valor de a = 5\n"
     ]
    }
   ],
   "source": [
    "a = 1\n",
    "while a < 5:\n",
    "    print('En el while a =', a)\n",
    "    a += 1\n",
    "print('Último valor de a =', a)"
   ]
  },
  {
   "cell_type": "code",
   "execution_count": 10,
   "metadata": {},
   "outputs": [
    {
     "name": "stdout",
     "output_type": "stream",
     "text": [
      "Último valor de a = 10\n"
     ]
    }
   ],
   "source": [
    "a = 10\n",
    "while a < 5:\n",
    "    print('En el while a =', a)\n",
    "    a += 1\n",
    "print('Último valor de a =', a)"
   ]
  },
  {
   "cell_type": "markdown",
   "metadata": {},
   "source": [
    "#### Otro Ejemplo \n",
    "\n",
    "`Hacer un programa que muestre los números pares entre 1 y 20 inclusive.`\n",
    "\n",
    "De la consigna podemos sacar la siguiente información:\n",
    "* Vamos a tener que evaluar la paridad para un grupo de números. *Siempre que se vaya a realizar una misma tarea a un **grupo**, **secuencia**, o algo que se deba **repetir**, probablemente necesitemos un ciclo.*\n",
    "* En este ejempl para cada número evaluado, debemos verificar si es par. *Recuerde ....Siempre que haya una pregunta a hacer y un `si es`, vamos a necesitar una estructura condicional.*"
   ]
  },
  {
   "cell_type": "markdown",
   "metadata": {},
   "source": [
    "Veamos entonces cómo podríamos hacer este código en python."
   ]
  },
  {
   "cell_type": "code",
   "execution_count": 11,
   "metadata": {},
   "outputs": [
    {
     "name": "stdout",
     "output_type": "stream",
     "text": [
      "2\n",
      "4\n",
      "6\n",
      "8\n",
      "10\n",
      "12\n",
      "14\n",
      "16\n",
      "18\n",
      "20\n"
     ]
    }
   ],
   "source": [
    "n = 1               # Inicializamos n\n",
    "while n <= 20:      # Condición del while\n",
    "\n",
    "    if n % 2 == 0:  # Evaluamos si es para vericiando que sea\n",
    "                    # divisible por 2\n",
    "        print(n)    # Si es divisible lo imprimimos\n",
    "\n",
    "    n += 1          # Fuera del if, lo incrementamos"
   ]
  },
  {
   "cell_type": "markdown",
   "metadata": {},
   "source": [
    "## Ciclos infinitos\n",
    "\n",
    "Ahora que ya vimos algunos ejemplos del uso del `while`, veamos el problema de los ciclos infinitos. Ya lo dijo Einstein:\n",
    "\n",
    "*“Insanity is doing the same thing over and over and expecting different results\"*\n",
    "\n",
    "En este ejemplo:\n",
    "\n",
    "```python\n",
    "a = 1\n",
    "while a < 5:\n",
    "    pass        ## El pass me permite probar la instruccion, pero No hace nada\n",
    "```\n",
    "\n",
    "Entonces:\n",
    "* Si `a` no cambia dentro del bloque de código, sigue valiendo 1 por siempre.\n",
    "* Entonces la condición sigue dando `True` por siempre\n",
    "* Por lo tanto el ciclo se vuelve *infinito*, no termina nunca.\n",
    "\n",
    "Si tenemos una condición en el `while`, cuyos operandos no cambian con la ejecución del bloque de instrucciones, difícil va a ser que el resultado de la evaluación de la condición cambie y por tanto el `CICLO NUNCA TERMINARÁ`.\n",
    "\n",
    "`IMPORTANTE:` Los ciclos infinitos son unos de los errores más comunes al comenzar a programar. Siempre que escriban un `while` asegúrense de poder contestar estas preguntas:\n",
    "* ¿Tengo dadas las **condiciones para entrar** al while? \n",
    "* ¿Tengo dadas las **condiciones para salir** del while? \n",
    "\n",
    "Hagamos un ciclo infinito a propósito. Pueden apretar Control-C para finalizar el programa (.py) o parar la ejecución de la celda (con símbolo de stop, en notebook)."
   ]
  },
  {
   "cell_type": "code",
   "execution_count": null,
   "metadata": {},
   "outputs": [],
   "source": [
    "while(True):\n",
    "    print('ciclo ', end='')"
   ]
  },
  {
   "cell_type": "markdown",
   "metadata": {},
   "source": [
    "## Patrones de validación con if y while"
   ]
  },
  {
   "cell_type": "markdown",
   "metadata": {},
   "source": [
    "La experiencia muestra que no hay mayor fuente de problemas en un programa que cuando el usuario ingresa un valor. Por esto, es muy común encontrar en el código, **procesos de validación** de datos de entrada.\n",
    "\n",
    "Una técnica de validación de errores, es el uso de por lo menos un ciclo `while` que impida que el programa siga su ejecucion normal si no ha cumplido las condiciones pedidas para la solución del problema.\n",
    "\n",
    "En la siguiente consigna:\n",
    "`Pedir al usuario que ingrese un número entero positivo, e imprimir el doble de este número por pantalla`\n",
    "\n",
    "En la consigna se pide validar que el número entero ingresado sea  **positivo**, para lo cual \n",
    "deberemos verificar que sea mayor que cero. Si el número introducido no cumple la condicion, debe pedirse que se ingrese un nuevo número.\n",
    "\n",
    "Una posible solución del ejercicio propuesto puede ser:"
   ]
  },
  {
   "cell_type": "code",
   "execution_count": null,
   "metadata": {},
   "outputs": [],
   "source": [
    "numero = int(input('Ingrese un entero positivo'))   # Pido al usuario que ingrese el dato\n",
    "while ( numero <= 0 ):      # Entre paréntesis tengo una expresión que va a ser \n",
    "                            # verdadera en todos los casos donde el número \n",
    "                            # no sea válido\n",
    "    numero = int(input('Pruebe otra vez. Ingrese un entero positivo'))   \n",
    "\n",
    "print('Número original:',numero)\n",
    "print('El doble :', numero*2 )"
   ]
  },
  {
   "cell_type": "markdown",
   "metadata": {},
   "source": [
    "Esta versión me permite tener mensajes distintos entre la primera vez que pidió el ingreso, y el resto de las veces. \n",
    "\n",
    "Cada vez que se ingrese un valor que no es válido, va a ejecutar la condición del while como `True`, por lo tanto va a pedir nuevamente el número."
   ]
  },
  {
   "cell_type": "markdown",
   "metadata": {},
   "source": [
    "Otra opción podría haber sido:"
   ]
  },
  {
   "cell_type": "code",
   "execution_count": null,
   "metadata": {},
   "outputs": [],
   "source": [
    "numero = 0                  # Al inicializar la variable debo tener presente que su valor permita\n",
    "                            # ingresar al while\n",
    "\n",
    "while ( numero <= 0 ):      # Entre paréntesis escribiré una expresión lógica que va a ser \n",
    "                            # verdadera en todos los casos donde el número \n",
    "                            # No sea válido\n",
    "    numero = int(input('Ingrese un entero positivo :'))   # Pido que ingrese el dato\n",
    "\n",
    "print('Número original:',numero)\n",
    "print('El doble :', numero*2 )"
   ]
  },
  {
   "cell_type": "markdown",
   "metadata": {},
   "source": [
    "Realizar un programa que dada una cadena de caracteres verifique si puede transformarse en un número entero usando el casteo con int():"
   ]
  },
  {
   "cell_type": "code",
   "execution_count": 4,
   "metadata": {},
   "outputs": [
    {
     "name": "stdout",
     "output_type": "stream",
     "text": [
      "Ingreso inválido\n"
     ]
    }
   ],
   "source": [
    "ingreso = input(\"Ingrese un número entero positivo\")\n",
    "\n",
    "i=0     ## Indice para recorrer los caracteres del ingreso\n",
    "sintaxis_ok= True\n",
    "while i<len(ingreso) and sintaxis_ok :\n",
    "    if '0' > ingreso[i] or ingreso[i]> '9':  # Valido si el caracter ingreso[i] es \n",
    "        sintaxis_ok= False                                # mayor o igual a '0' (caracter 0 en la \n",
    "                                            # tabla aSCII) o, menor o igal que '9'\n",
    "                                            # El resultado bool de esa expresión\n",
    "                                            # queda almacenado en sintaxis_ok\n",
    "\n",
    "    i+=1                                    # Se Incrementa el valor de i para seguir\n",
    "                                            # recorriendo la cadena introducida `ingreso`\n",
    "    # Fin del while \n",
    "                                        \n",
    "if sintaxis_ok:\n",
    "    ingr_int = int(ingreso)\n",
    "    print('La cadena Ingresada se puede transformar en un numero entero:', ingr_int)\n",
    "else: \n",
    "    print('La cadena Ingresada NO se puede transformar en un numero entero')"
   ]
  },
  {
   "cell_type": "markdown",
   "metadata": {},
   "source": [
    "Con el código anterior podemos ver cómo validar la sintaxis de la cadena ingresada antes de intentar hacer la conversión a int. "
   ]
  },
  {
   "cell_type": "markdown",
   "metadata": {},
   "source": [
    "## Ciclos while enlazados"
   ]
  },
  {
   "cell_type": "markdown",
   "metadata": {},
   "source": [
    "En el siguiente ejemplo, se verá el uso de un while dentro de otro.\n",
    "Realizar un programa que le pida al usuario 10 números, si el número introducido no es positivo debe pedirlo hasta que se cumpla la condición y mostrar cada número válido introducido."
   ]
  },
  {
   "cell_type": "markdown",
   "metadata": {},
   "source": [
    "```python\n",
    "cantidad = 1              \n",
    "# INICIO WHILE A #################################\n",
    "while cantidad <10:\n",
    "    ########## INICIO BLOQUE CODIGO WHILE A DONDE SE PEDIRAN LOS NUMEROS AL USUARIO########\n",
    "    numero = int(input(\"Ingrese un número entero positivo\"))\n",
    "       \n",
    "    #### INICIO WHILE B PARA VALIDAR EL VALOR DEL NUMERO INGRESADO #####\n",
    "    while ( numero <= 0 ): \n",
    "        # INICIO BLOQUE CODIGO WHILE B ###################\n",
    "        numero = int(input(\"Ingrese un número entero positivo\"))                                \n",
    "        # FIN BLOQUE CODIGO WHILE B ######################\n",
    "    print(numero)\n",
    "    cantidad+=1             \n",
    "    # FIN BLOQUE CODIGO WHILE A #########################\n",
    "# FIN WHILE A ##################################\n",
    "\n",
    "```\n",
    "\n",
    "En los comentarios se puede identificar las partes de cada uno de los while, y cómo el `while B` es ejecutado cada vez que la condición del `while A` es `True`.\n",
    "\n",
    "``` "
   ]
  }
 ],
 "metadata": {
  "kernelspec": {
   "display_name": "Python 3.9.5 64-bit",
   "language": "python",
   "name": "python3"
  },
  "language_info": {
   "codemirror_mode": {
    "name": "ipython",
    "version": 3
   },
   "file_extension": ".py",
   "mimetype": "text/x-python",
   "name": "python",
   "nbconvert_exporter": "python",
   "pygments_lexer": "ipython3",
   "version": "3.9.12"
  },
  "orig_nbformat": 4,
  "vscode": {
   "interpreter": {
    "hash": "ac2eaa0ea0ebeafcc7822e65e46aa9d4f966f30b695406963e145ea4a91cd4fc"
   }
  }
 },
 "nbformat": 4,
 "nbformat_minor": 2
}
